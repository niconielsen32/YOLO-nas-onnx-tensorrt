{
 "cells": [
  {
   "cell_type": "code",
   "execution_count": 7,
   "metadata": {},
   "outputs": [
    {
     "name": "stderr",
     "output_type": "stream",
     "text": [
      "[2024-01-31 00:54:27] INFO - checkpoint_utils.py - License Notification: YOLO-NAS pre-trained weights are subjected to the specific license terms and conditions detailed in \n",
      "https://github.com/Deci-AI/super-gradients/blob/master/LICENSE.YOLONAS.md\n",
      "By downloading the pre-trained weight files you agree to comply with these terms.\n",
      "[2024-01-31 00:54:27] INFO - checkpoint_utils.py - Successfully loaded pretrained weights for architecture yolo_nas_l\n",
      "[2024-01-31 00:54:28] INFO - checkpoint_utils.py - Successfully loaded model weights from average_model.pth checkpoint.\n",
      "c:\\Users\\USER\\.conda\\envs\\py39\\lib\\site-packages\\torch\\onnx\\symbolic_opset9.py:5408: UserWarning: Exporting aten::index operator of advanced indexing in opset 14 is achieved by combination of multiple ONNX operators, including Reshape, Transpose, Concat, and Gather. If indices include negative values, the exported graph will produce incorrect results.\n",
      "  warnings.warn(\n"
     ]
    }
   ],
   "source": [
    "from super_gradients.common.object_names import Models\n",
    "from super_gradients.training import models\n",
    "from super_gradients.conversion import DetectionOutputFormatMode\n",
    "from super_gradients.conversion.conversion_enums import ExportQuantizationMode\n",
    "from super_gradients.conversion import ExportTargetBackend\n",
    "\n",
    "#model = models.get(Models.YOLO_NAS_L, pretrained_weights=\"coco\")\n",
    "\n",
    "\n",
    "model = models.get(Models.YOLO_NAS_L, pretrained_weights=\"coco\")\n",
    "\"\"\"model = models.get(\n",
    "    Models.YOLO_NAS_L,\n",
    "    num_classes=3,\n",
    "    checkpoint_path=f\"average_model.pth\"\n",
    ")\"\"\"\n",
    "\n",
    "export_result = model.export(\n",
    "    \"yolonas_padel_l.onnx\",\n",
    "    confidence_threshold = 0.1,\n",
    "    nms_threshold = 0.5,\n",
    "    num_pre_nms_predictions = 100,\n",
    "    max_predictions_per_image = 50,\n",
    "    output_predictions_format = DetectionOutputFormatMode.FLAT_FORMAT,\n",
    "    #engine=ExportTargetBackend.TENSORRT\n",
    ")\n"
   ]
  },
  {
   "cell_type": "code",
   "execution_count": null,
   "metadata": {},
   "outputs": [],
   "source": [
    "export_result"
   ]
  },
  {
   "cell_type": "code",
   "execution_count": null,
   "metadata": {},
   "outputs": [],
   "source": [
    "!trtexec --onnx=yolo_nas_l_trt.onnx --uint8 --avgRuns=100 --duration=15"
   ]
  },
  {
   "cell_type": "code",
   "execution_count": 47,
   "metadata": {},
   "outputs": [],
   "source": [
    "import cv2\n",
    "import numpy as np\n",
    "from super_gradients.training.utils.media.image import load_image\n",
    "import onnxruntime\n",
    "import time\n",
    "\n",
    "image = load_image(\"https://deci-pretrained-models.s3.amazonaws.com/sample_images/beatles-abbeyroad.jpg\")\n",
    "image = cv2.resize(image, (640, 640))\n",
    "image_bchw = np.transpose(np.expand_dims(image, 0), (0, 3, 1, 2))\n"
   ]
  },
  {
   "cell_type": "code",
   "execution_count": 48,
   "metadata": {},
   "outputs": [],
   "source": [
    "session = onnxruntime.InferenceSession(\"yolo_nas_s_top_5.onnx\", providers=[\"CUDAExecutionProvider\", \"CPUExecutionProvider\"])\n",
    "inputs = [o.name for o in session.get_inputs()]\n",
    "outputs = [o.name for o in session.get_outputs()]\n",
    "start = time.perf_counter()\n",
    "result = session.run(outputs, {inputs[0]: image_bchw})\n",
    "end = time.perf_counter()\n",
    "print(f\"Time: {end-start} ms\")\n",
    "\n",
    "print(result)"
   ]
  },
  {
   "cell_type": "code",
   "execution_count": 49,
   "metadata": {},
   "outputs": [],
   "source": [
    "flat_predictions = result\n",
    "for (_, x_min, y_min, x_max, y_max, confidence, class_id) in flat_predictions[0]:\n",
    "    class_id = int(class_id)\n",
    "    print(f\"Detected object with class_id={class_id}, confidence={confidence}, x_min={x_min}, y_min={y_min}, x_max={x_max}, y_max={y_max}\")"
   ]
  },
  {
   "cell_type": "code",
   "execution_count": 50,
   "metadata": {},
   "outputs": [],
   "source": [
    "import matplotlib.pyplot as plt\n",
    "from super_gradients.training.datasets.datasets_conf import COCO_DETECTION_CLASSES_LIST\n",
    "from super_gradients.training.utils.detection_utils import DetectionVisualization\n",
    "\n",
    "def show_predictions_from_flat_format(image, predictions):\n",
    "    [flat_predictions] = predictions\n",
    "\n",
    "    image = image.copy()\n",
    "    class_names = COCO_DETECTION_CLASSES_LIST\n",
    "    color_mapping = DetectionVisualization._generate_color_mapping(len(class_names))\n",
    "\n",
    "    for (sample_index, x1, y1, x2, y2, class_score, class_index) in flat_predictions[flat_predictions[:, 0] == 0]:\n",
    "        class_index = int(class_index)\n",
    "        image = DetectionVisualization.draw_box_title(\n",
    "                    image_np=image,\n",
    "                    x1=int(x1),\n",
    "                    y1=int(y1),\n",
    "                    x2=int(x2),\n",
    "                    y2=int(y2),\n",
    "                    class_id=class_index,\n",
    "                    class_names=class_names,\n",
    "                    color_mapping=color_mapping,\n",
    "                    box_thickness=2,\n",
    "                    pred_conf=class_score,\n",
    "                )\n",
    "\n",
    "    plt.figure(figsize=(8, 8))\n",
    "    plt.imshow(image)\n",
    "    plt.tight_layout()\n",
    "    plt.show()"
   ]
  },
  {
   "cell_type": "code",
   "execution_count": null,
   "metadata": {},
   "outputs": [],
   "source": [
    "show_predictions_from_flat_format(image, result)"
   ]
  },
  {
   "cell_type": "code",
   "execution_count": null,
   "metadata": {},
   "outputs": [],
   "source": []
  }
 ],
 "metadata": {
  "kernelspec": {
   "display_name": "py39",
   "language": "python",
   "name": "python3"
  },
  "language_info": {
   "codemirror_mode": {
    "name": "ipython",
    "version": 3
   },
   "file_extension": ".py",
   "mimetype": "text/x-python",
   "name": "python",
   "nbconvert_exporter": "python",
   "pygments_lexer": "ipython3",
   "version": "3.9.18"
  }
 },
 "nbformat": 4,
 "nbformat_minor": 2
}
